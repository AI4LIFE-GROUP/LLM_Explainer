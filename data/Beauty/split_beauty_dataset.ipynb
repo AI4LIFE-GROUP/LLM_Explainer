{
 "cells": [
  {
   "cell_type": "code",
   "outputs": [],
   "source": [
    "import json\n",
    "from sklearn.model_selection import train_test_split\n",
    "import pandas as pd\n",
    "from sentence_transformers import SentenceTransformer\n",
    "import numpy as np\n",
    "import pickle as pkl"
   ],
   "metadata": {
    "collapsed": false,
    "ExecuteTime": {
     "end_time": "2024-03-26T22:09:08.362684Z",
     "start_time": "2024-03-26T22:09:08.359387Z"
    }
   },
   "id": "2f9e2ad29b1eedff",
   "execution_count": 33
  },
  {
   "cell_type": "code",
   "execution_count": 15,
   "id": "9250d84e33de9832",
   "metadata": {
    "collapsed": false,
    "ExecuteTime": {
     "end_time": "2024-03-26T21:51:35.469523Z",
     "start_time": "2024-03-26T21:51:35.467829Z"
    }
   },
   "outputs": [],
   "source": [
    "# Path to the All_Beauty reviews file you downloaded\n",
    "reviews_file_path = 'All_Beauty.jsonl'\n",
    "SEED = 0"
   ]
  },
  {
   "cell_type": "code",
   "outputs": [],
   "source": [
    "# Load the reviews and the ratings\n",
    "texts, ratings = [], []\n",
    "with open(reviews_file_path, 'r') as file:\n",
    "    for line in file:\n",
    "        review = json.loads(line.strip())\n",
    "        texts.append(review['text'])\n",
    "        ratings.append(review['rating'])"
   ],
   "metadata": {
    "collapsed": true,
    "ExecuteTime": {
     "end_time": "2024-03-26T21:51:37.563039Z",
     "start_time": "2024-03-26T21:51:35.470137Z"
    }
   },
   "id": "initial_id",
   "execution_count": 16
  },
  {
   "cell_type": "code",
   "outputs": [],
   "source": [
    "# Convert ratings to binary sentiment (1 for positive, 0 for negative)\n",
    "sentiments = [1 if rating >= 4 else 0 for rating in ratings]\n",
    "\n",
    "# Split the dataset into training and testing sets\n",
    "X_train, X_test, y_train, y_test = train_test_split(texts, sentiments, test_size=0.2, random_state=SEED)"
   ],
   "metadata": {
    "collapsed": false,
    "ExecuteTime": {
     "end_time": "2024-03-26T21:51:37.761432Z",
     "start_time": "2024-03-26T21:51:37.564178Z"
    }
   },
   "id": "1798ae5c06e9b573",
   "execution_count": 17
  },
  {
   "cell_type": "code",
   "outputs": [],
   "source": [
    "# pkl the train and test data\n",
    "train_df = pd.DataFrame({'text': X_train, 'sentiment': y_train})\n",
    "test_df = pd.DataFrame({'text': X_test, 'sentiment': y_test})\n",
    "train_df.to_pickle('beauty-train.pkl')\n",
    "test_df.to_pickle('beauty-test.pkl')"
   ],
   "metadata": {
    "collapsed": false,
    "ExecuteTime": {
     "end_time": "2024-03-26T21:51:38.332675Z",
     "start_time": "2024-03-26T21:51:37.762186Z"
    }
   },
   "id": "f158be4817dcb1e",
   "execution_count": 18
  },
  {
   "cell_type": "code",
   "outputs": [
    {
     "data": {
      "text/plain": "(561222, 140306)"
     },
     "execution_count": 24,
     "metadata": {},
     "output_type": "execute_result"
    }
   ],
   "source": [
    "len(X_train), len(X_test)"
   ],
   "metadata": {
    "collapsed": false,
    "ExecuteTime": {
     "end_time": "2024-03-26T21:53:21.517702Z",
     "start_time": "2024-03-26T21:53:21.515350Z"
    }
   },
   "id": "9409a62bb82d449f",
   "execution_count": 24
  },
  {
   "cell_type": "code",
   "outputs": [
    {
     "name": "stdout",
     "output_type": "stream",
     "text": [
      "transforming data...\n",
      "0 / 561222\n",
      "160000 / 561222\n",
      "320000 / 561222\n",
      "480000 / 561222\n",
      "transforming data...\n",
      "0 / 140306\n"
     ]
    }
   ],
   "source": [
    "# Generate embeddings\n",
    "def generate_embeddings(texts):\n",
    "    embedding_model = SentenceTransformer('all-MiniLM-L6-v2')\n",
    "    batch_size = 256  # Adjust based on your system's memory capacity\n",
    "    embeddings = []\n",
    "    print('transforming data...')\n",
    "    for i in range(0, len(texts), batch_size):\n",
    "        if i % 5000 == 0:\n",
    "            print(i, '/', len(texts))\n",
    "        batch = texts[i:i + batch_size]\n",
    "        batch_embeddings = embedding_model.encode(batch)\n",
    "        embeddings.extend(batch_embeddings)\n",
    "    return embeddings\n",
    "\n",
    "train_embeddings = generate_embeddings(X_train)\n",
    "test_embeddings = generate_embeddings(X_test)"
   ],
   "metadata": {
    "collapsed": false,
    "ExecuteTime": {
     "end_time": "2024-03-26T22:04:54.482557Z",
     "start_time": "2024-03-26T21:57:15.846405Z"
    }
   },
   "id": "e4295cf57fe059d",
   "execution_count": 27
  },
  {
   "cell_type": "code",
   "outputs": [],
   "source": [
    "train_embeddings = np.array(train_embeddings)\n",
    "test_embeddings = np.array(test_embeddings)\n",
    "\n",
    "# save out as pkl\n",
    "with open('beauty-train-embeddings.pkl', 'wb') as file:\n",
    "    pkl.dump(train_embeddings, file)\n",
    "    \n",
    "with open('beauty-test-embeddings.pkl', 'wb') as file:\n",
    "    pkl.dump(test_embeddings, file)"
   ],
   "metadata": {
    "collapsed": false,
    "ExecuteTime": {
     "end_time": "2024-03-26T22:09:41.039723Z",
     "start_time": "2024-03-26T22:09:38.467815Z"
    }
   },
   "id": "ada04c5f290eef0b",
   "execution_count": 34
  },
  {
   "cell_type": "code",
   "outputs": [
    {
     "data": {
      "text/plain": "((561222, 384), (140306, 384))"
     },
     "execution_count": 35,
     "metadata": {},
     "output_type": "execute_result"
    }
   ],
   "source": [
    "train_embeddings.shape, test_embeddings.shape"
   ],
   "metadata": {
    "collapsed": false,
    "ExecuteTime": {
     "end_time": "2024-03-26T22:09:45.560783Z",
     "start_time": "2024-03-26T22:09:45.557037Z"
    }
   },
   "id": "a7df673e17b649d0",
   "execution_count": 35
  },
  {
   "cell_type": "code",
   "outputs": [
    {
     "name": "stdout",
     "output_type": "stream",
     "text": [
      "Train Accuracy: 0.8677439587186532\n",
      "Test Accuracy: 0.8673185751143928\n"
     ]
    }
   ],
   "source": [
    "# classifying the embeddings as a sanity check\n",
    "from sklearn.linear_model import LogisticRegression\n",
    "from sklearn.metrics import accuracy_score\n",
    "\n",
    "classifier = LogisticRegression(max_iter=1000)\n",
    "classifier.fit(train_embeddings, y_train)\n",
    "\n",
    "train_predictions = classifier.predict(train_embeddings)\n",
    "test_predictions = classifier.predict(test_embeddings)\n",
    "\n",
    "train_accuracy = accuracy_score(y_train, train_predictions)\n",
    "test_accuracy = accuracy_score(y_test, test_predictions)\n",
    "\n",
    "print('Train Accuracy:', train_accuracy)\n",
    "print('Test Accuracy:', test_accuracy)"
   ],
   "metadata": {
    "collapsed": false,
    "ExecuteTime": {
     "end_time": "2024-03-26T22:08:21.285529Z",
     "start_time": "2024-03-26T22:08:12.623735Z"
    }
   },
   "id": "c5ee64cc81dbaecd",
   "execution_count": 32
  },
  {
   "cell_type": "code",
   "outputs": [],
   "source": [],
   "metadata": {
    "collapsed": false
   },
   "id": "1579420c4ce4d5b"
  }
 ],
 "metadata": {
  "kernelspec": {
   "name": "llm_explainer",
   "language": "python",
   "display_name": "LLM_Explainer"
  },
  "language_info": {
   "codemirror_mode": {
    "name": "ipython",
    "version": 2
   },
   "file_extension": ".py",
   "mimetype": "text/x-python",
   "name": "python",
   "nbconvert_exporter": "python",
   "pygments_lexer": "ipython2",
   "version": "2.7.6"
  }
 },
 "nbformat": 4,
 "nbformat_minor": 5
}
