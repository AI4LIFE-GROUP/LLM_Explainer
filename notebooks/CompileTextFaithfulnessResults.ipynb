{
 "cells": [
  {
   "cell_type": "code",
   "outputs": [],
   "source": [
    "# Load in all the PGI and PGU values (mean+/-std) for each method and record it in a table\n",
    "import pandas as pd"
   ],
   "metadata": {
    "collapsed": false
   },
   "id": "96403f32257d0cb5"
  },
  {
   "cell_type": "code",
   "outputs": [],
   "source": [
    "import os\n",
    "os.chdir('..')"
   ],
   "metadata": {
    "collapsed": false,
    "ExecuteTime": {
     "end_time": "2024-06-14T06:20:03.679949Z",
     "start_time": "2024-06-14T06:20:03.677803Z"
    }
   },
   "id": "e17fff1afed0ddc2",
   "execution_count": 1
  },
  {
   "cell_type": "code",
   "outputs": [
    {
     "data": {
      "text/plain": "'/Users/nkroeger/Documents/Harvard/LLM_PostHocExplainer/LLM_Explainer'"
     },
     "execution_count": 2,
     "metadata": {},
     "output_type": "execute_result"
    }
   ],
   "source": [
    "# print cwd\n",
    "os.getcwd()"
   ],
   "metadata": {
    "collapsed": false,
    "ExecuteTime": {
     "end_time": "2024-06-14T06:20:04.055899Z",
     "start_time": "2024-06-14T06:20:04.049806Z"
    }
   },
   "id": "d271c1eddf86fa2e",
   "execution_count": 2
  },
  {
   "cell_type": "code",
   "outputs": [],
   "source": [
    "import glob"
   ],
   "metadata": {
    "collapsed": false,
    "ExecuteTime": {
     "end_time": "2024-06-14T06:20:04.437680Z",
     "start_time": "2024-06-14T06:20:04.435678Z"
    }
   },
   "id": "be86d4c6b453f9e6",
   "execution_count": 3
  },
  {
   "cell_type": "code",
   "outputs": [],
   "source": [
    "\n",
    "def extract_method(filename):\n",
    "    parts = filename.split('/')\n",
    "    file_name = parts[-1]  # Get the actual filename without path\n",
    "    name_parts = file_name.split('_')\n",
    "    # Extract method and check for presence of 'preview' or versioning directly\n",
    "    if 'preview' in file_name:\n",
    "        method = name_parts[3] + '-0125-preview'\n",
    "    else:\n",
    "        method = name_parts[3]\n",
    "    \n",
    "    # Detect if 'v1' or 'pgicl' is in the filename and append\n",
    "    if 'v1' in file_name:\n",
    "        strategy = 'v1'\n",
    "    elif 'pgicl' in file_name:\n",
    "        strategy = 'pgicl'\n",
    "    else:\n",
    "        # If no known strategy is identified, return the method without strategy\n",
    "        return method\n",
    "\n",
    "    return f\"{method}_{strategy}\"\n",
    "\n",
    "# Function to parse values from the simulated file content\n",
    "def parse_values(content):\n",
    "    lines = content.split('\\n')\n",
    "    pgi = lines[0].split(':')[1].strip()\n",
    "    pgu = lines[1].split(':')[1].strip()\n",
    "    return pgi, pgu\n",
    "\n",
    "def pad_values(value):\n",
    "    mean, std = value.split('+/-')\n",
    "    mean = f\"{float(mean):.3f}\"\n",
    "    std = f\"{float(std):.3f}\"\n",
    "    return f\"{mean}+/-{std}\""
   ],
   "metadata": {
    "collapsed": false,
    "ExecuteTime": {
     "end_time": "2024-06-14T19:11:26.056024Z",
     "start_time": "2024-06-14T19:11:26.049940Z"
    }
   },
   "id": "805b50daa4fe142a",
   "execution_count": 80
  },
  {
   "cell_type": "code",
   "outputs": [
    {
     "name": "stdout",
     "output_type": "stream",
     "text": [
      "                                   Method            PGI            PGU\n",
      "1   gpt-4-0125-preview-0125-preview_pgicl  0.329+/-0.045  0.214+/-0.039\n",
      "4      gpt-4-0125-preview-0125-preview_v1  0.295+/-0.040  0.263+/-0.039\n",
      "7                             gpt-4_pgicl  0.318+/-0.043  0.251+/-0.038\n",
      "3                                gpt-4_v1  0.332+/-0.038  0.205+/-0.031\n",
      "9                                      la  0.140+/-0.028  0.418+/-0.048\n",
      "2                                      lc  0.178+/-0.033  0.339+/-0.042\n",
      "5                                     ldl  0.208+/-0.034  0.367+/-0.046\n",
      "0                                  lgshap  0.186+/-0.033  0.375+/-0.046\n",
      "11                                   lgxa  0.229+/-0.037  0.373+/-0.045\n",
      "12                                    lig  0.217+/-0.035  0.394+/-0.047\n",
      "6                                lime1000  0.486+/-0.039  0.163+/-0.031\n",
      "10                                 lime16  0.359+/-0.044  0.201+/-0.034\n",
      "8                                  random  0.291+/-0.032  0.284+/-0.031\n",
      "                                   Method            PGI            PGU\n",
      "2   gpt-4-0125-preview-0125-preview_pgicl  0.244+/-0.035  0.260+/-0.034\n",
      "3      gpt-4-0125-preview-0125-preview_v1  0.300+/-0.038  0.231+/-0.033\n",
      "7                             gpt-4_pgicl  0.349+/-0.039  0.243+/-0.033\n",
      "1                                gpt-4_v1  0.300+/-0.036  0.293+/-0.037\n",
      "6                                      la  0.212+/-0.035  0.371+/-0.041\n",
      "10                                     lc  0.170+/-0.030  0.355+/-0.042\n",
      "11                                    ldl  0.301+/-0.038  0.305+/-0.038\n",
      "12                                 lgshap  0.291+/-0.039  0.355+/-0.038\n",
      "8                                    lgxa  0.280+/-0.038  0.331+/-0.042\n",
      "5                                     lig  0.291+/-0.040  0.346+/-0.040\n",
      "0                                lime1000  0.382+/-0.038  0.239+/-0.033\n",
      "4                                  lime16  0.380+/-0.041  0.258+/-0.033\n",
      "9                                  random  0.271+/-0.029  0.251+/-0.027\n",
      "                                   Method            PGI            PGU\n",
      "0   gpt-4-0125-preview-0125-preview_pgicl  0.371+/-0.042  0.205+/-0.035\n",
      "3      gpt-4-0125-preview-0125-preview_v1  0.390+/-0.041  0.252+/-0.037\n",
      "1                             gpt-4_pgicl  0.386+/-0.038  0.238+/-0.036\n",
      "4                                gpt-4_v1  0.409+/-0.038  0.222+/-0.036\n",
      "5                                      la  0.218+/-0.034  0.290+/-0.038\n",
      "9                                      lc  0.216+/-0.035  0.303+/-0.037\n",
      "2                                     ldl  0.297+/-0.040  0.265+/-0.038\n",
      "10                                 lgshap  0.240+/-0.035  0.313+/-0.040\n",
      "8                                    lgxa  0.327+/-0.042  0.272+/-0.039\n",
      "12                                    lig  0.263+/-0.040  0.358+/-0.042\n",
      "6                                lime1000  0.429+/-0.040  0.181+/-0.031\n",
      "7                                  lime16  0.396+/-0.041  0.171+/-0.032\n",
      "11                                 random  0.304+/-0.032  0.281+/-0.034\n"
     ]
    }
   ],
   "source": [
    "dataset_names = ['imdb', 'yelp', 'amazon_1000']\n",
    "for dataset_name in dataset_names:\n",
    "    faithfulness_dir = 'outputs/TextFaithfulnessResults/'+dataset_name+'/'\n",
    "    # load all txt files in directory\n",
    "    files = glob.glob(faithfulness_dir + '*.txt')\n",
    "    # each .txt file is formatted as follows:\n",
    "    # PGI:0.37+/-0.039\n",
    "    # PGU:0.24+/-0.035\n",
    "    \n",
    "    file_contents = {}\n",
    "    for file in files:\n",
    "        with open(file, 'r') as f:\n",
    "            file_contents[file] = f.read()\n",
    "    \n",
    "    # Create a DataFrame to store the data\n",
    "    data = []\n",
    "    for file in files:\n",
    "        method = extract_method(file)\n",
    "        pgi, pgu = parse_values(file_contents[file])\n",
    "        data.append([method, pgi, pgu])\n",
    "    \n",
    "    # Apply padding to the PGI and PGU values\n",
    "    data_padded = []\n",
    "    for row in data:\n",
    "        method, pgi, pgu = row\n",
    "        pgi_padded = pad_values(pgi)\n",
    "        pgu_padded = pad_values(pgu)\n",
    "        data_padded.append([method, pgi_padded, pgu_padded])\n",
    "    \n",
    "    # Create DataFrame\n",
    "    df = pd.DataFrame(data_padded, columns=['Method', 'PGI', 'PGU'])\n",
    "    # sort by method name\n",
    "    df = df.sort_values(by='Method')\n",
    "    print(df)\n",
    "    # Save the DataFrame to a CSV file\n",
    "    df.to_csv('outputs/TextFaithfulnessResults/'+dataset_name+'/TextFaithfulnessResults_'+dataset_name+'.csv', index=False)\n"
   ],
   "metadata": {
    "collapsed": false,
    "ExecuteTime": {
     "end_time": "2024-06-14T19:12:00.172873Z",
     "start_time": "2024-06-14T19:12:00.154698Z"
    }
   },
   "id": "b5d948217029397e",
   "execution_count": 81
  },
  {
   "cell_type": "code",
   "outputs": [],
   "source": [
    " "
   ],
   "metadata": {
    "collapsed": false,
    "ExecuteTime": {
     "end_time": "2024-06-14T06:20:59.376442Z",
     "start_time": "2024-06-14T06:20:59.375155Z"
    }
   },
   "id": "ced9eef87bf139c0",
   "execution_count": 18
  },
  {
   "cell_type": "code",
   "outputs": [],
   "source": [],
   "metadata": {
    "collapsed": false
   },
   "id": "9be7a1cc7a2c737e"
  }
 ],
 "metadata": {
  "kernelspec": {
   "name": "llm_explainer",
   "language": "python",
   "display_name": "LLM_Explainer"
  },
  "language_info": {
   "codemirror_mode": {
    "name": "ipython",
    "version": 2
   },
   "file_extension": ".py",
   "mimetype": "text/x-python",
   "name": "python",
   "nbconvert_exporter": "python",
   "pygments_lexer": "ipython2",
   "version": "2.7.6"
  }
 },
 "nbformat": 4,
 "nbformat_minor": 5
}
