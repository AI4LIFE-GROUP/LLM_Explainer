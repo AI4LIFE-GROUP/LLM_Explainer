{
 "cells": [
  {
   "cell_type": "code",
   "execution_count": 8,
   "id": "initial_id",
   "metadata": {
    "collapsed": true,
    "ExecuteTime": {
     "end_time": "2023-09-08T21:31:17.847999Z",
     "start_time": "2023-09-08T21:31:17.845427Z"
    }
   },
   "outputs": [],
   "source": [
    "import torch\n",
    "import os\n",
    "from utils import get_model_architecture\n",
    "from openxai.LoadModel import DefineModel\n",
    "# Load models\n",
    "model_dir = '/Users/nkroeger/Documents/Harvard/LM_Explainer/models/ClassWeighted_scale_minmax/LR/'\n",
    "model_file_name = '20230907_1208_2__blood_lr_0.001_auc_roc_0.66.pt'\n",
    "model_name = 'lr'\n",
    "model_path = os.path.join(model_dir, model_file_name)"
   ]
  },
  {
   "cell_type": "code",
   "execution_count": 9,
   "outputs": [
    {
     "data": {
      "text/plain": "LogisticRegression(\n  (linear): Linear(in_features=4, out_features=2, bias=True)\n)"
     },
     "execution_count": 9,
     "metadata": {},
     "output_type": "execute_result"
    }
   ],
   "source": [
    "dim_per_layer_per_MLP, activation_per_layer_per_MLP = get_model_architecture(model_name)\n",
    "num_feats = 4\n",
    "model     = DefineModel(model_name, num_feats, dim_per_layer_per_MLP, activation_per_layer_per_MLP)\n",
    "model.load_state_dict(torch.load(model_dir + model_file_name))\n",
    "model.eval()"
   ],
   "metadata": {
    "collapsed": false,
    "ExecuteTime": {
     "end_time": "2023-09-08T21:31:18.382645Z",
     "start_time": "2023-09-08T21:31:18.378505Z"
    }
   },
   "id": "646e30355e2607d4"
  },
  {
   "cell_type": "code",
   "execution_count": 10,
   "outputs": [
    {
     "data": {
      "text/plain": "tensor([-2.1775,  0.4085,  0.9577,  0.2609], grad_fn=<SubBackward0>)"
     },
     "execution_count": 10,
     "metadata": {},
     "output_type": "execute_result"
    }
   ],
   "source": [
    "model.return_ground_truth_importance()"
   ],
   "metadata": {
    "collapsed": false,
    "ExecuteTime": {
     "end_time": "2023-09-08T21:31:26.460307Z",
     "start_time": "2023-09-08T21:31:26.456125Z"
    }
   },
   "id": "3649388e33dee0e4"
  },
  {
   "cell_type": "code",
   "execution_count": null,
   "outputs": [],
   "source": [],
   "metadata": {
    "collapsed": false
   },
   "id": "d569c7648684cb85"
  }
 ],
 "metadata": {
  "kernelspec": {
   "display_name": "Python 3",
   "language": "python",
   "name": "python3"
  },
  "language_info": {
   "codemirror_mode": {
    "name": "ipython",
    "version": 2
   },
   "file_extension": ".py",
   "mimetype": "text/x-python",
   "name": "python",
   "nbconvert_exporter": "python",
   "pygments_lexer": "ipython2",
   "version": "2.7.6"
  }
 },
 "nbformat": 4,
 "nbformat_minor": 5
}
